{
 "metadata": {
  "name": "roll_your_own_cms"
 },
 "nbformat": 3,
 "nbformat_minor": 0,
 "worksheets": [
  {
   "cells": [
    {
     "cell_type": "markdown",
     "metadata": {
      "slideshow": {
       "slide_type": "slide"
      }
     },
     "source": [
      "``git`` is not really a \"Version Control System\".  It is better described as a \"Content Management System\", that turns out to be really good for version control.\n",
      "\n",
      "What should a \"content manager\" do?\n",
      "\n",
      "We'll try and design our own, and then see what ``git`` has to say.\n",
      "\n",
      "The general idea of this presentation comes from the [git parable](http://tom.preston-werner.com/2009/05/19/the-git-parable.html). The [git foundations](http://matthew-brett.github.com/pydagogue/foundation.html) page extends the same idea."
     ]
    },
    {
     "cell_type": "heading",
     "level": 2,
     "metadata": {
      "slideshow": {
       "slide_type": "slide"
      }
     },
     "source": [
      "A mysterious introduction"
     ]
    },
    {
     "cell_type": "markdown",
     "metadata": {},
     "source": [
      "Later on, I'm going to ask you to solve a very difficult problem.\n",
      "\n",
      "Here's some background that might help.\n",
      "\n",
      "I'm going to describe \"Crytographic hashes\".  It won't be obvious why that's a good idea for a little while.\n",
      "\n",
      "See : [Wikipedia on hash functions](http://en.wikipedia.org/wiki/Cryptographic_hash_function)."
     ]
    },
    {
     "cell_type": "markdown",
     "metadata": {
      "slideshow": {
       "slide_type": "slide"
      }
     },
     "source": [
      "\n",
      "\n",
      "A *hash* is the result of running a *hash function* over a block of data.  The hash is a fixed length string that is the *signature* of that exact block of data.  Let's run this in Python:"
     ]
    },
    {
     "cell_type": "code",
     "collapsed": false,
     "input": [
      "import hashlib\n",
      "sha1_hash_function = hashlib.sha1\n",
      "sha1_hash_function"
     ],
     "language": "python",
     "metadata": {},
     "outputs": [
      {
       "output_type": "pyout",
       "prompt_number": 5,
       "text": [
        "<function _hashlib.openssl_sha1>"
       ]
      }
     ],
     "prompt_number": 5
    },
    {
     "cell_type": "code",
     "collapsed": false,
     "input": [
      "message = \"git is a rude word in UK English\"\n",
      "hash_value = sha1_hash_function(message).hexdigest()\n",
      "hash_value"
     ],
     "language": "python",
     "metadata": {},
     "outputs": [
      {
       "output_type": "pyout",
       "prompt_number": 6,
       "text": [
        "'fec41478c4f497c1d90fd28610f4272c78a6867e'"
       ]
      }
     ],
     "prompt_number": 6
    },
    {
     "cell_type": "markdown",
     "metadata": {},
     "source": [
      "Not too exciting so far.  However, the rather magical nature of this string is not yet apparent.  Here's the trick:\n",
      "\n",
      "**There is no practical way for you to find another `message` that will give the same `hash_value`**\n",
      "\n",
      "The `hash_value` then is (nearly) completely unique to that set of bytes.\n",
      "\n",
      "For example, a tiny change in the string makes the hash completely different:"
     ]
    },
    {
     "cell_type": "code",
     "collapsed": false,
     "input": [
      "sha1_hash_function(\"git is a rude word in UK English.\").hexdigest() # Add a full stop"
     ],
     "language": "python",
     "metadata": {},
     "outputs": [
      {
       "output_type": "pyout",
       "prompt_number": 10,
       "text": [
        "'9e87add001f13aa79ed7b42a5effbfc60aa8584e'"
       ]
      }
     ],
     "prompt_number": 10
    },
    {
     "cell_type": "markdown",
     "metadata": {},
     "source": [
      "So, if you give me some data, and I calculate the hash value, and it comes out as \"fec41478c4f497c1d90fd28610f4272c78a6867e\", then I can be very sure that the data you gave me was exactly the string \"git is a rude word in UK English\"."
     ]
    },
    {
     "cell_type": "heading",
     "level": 2,
     "metadata": {
      "slideshow": {
       "slide_type": "slide"
      }
     },
     "source": [
      "The story so far..."
     ]
    },
    {
     "cell_type": "markdown",
     "metadata": {},
     "source": [
      "You are writing a breakthrough paper showing that you can entirely explain the brain using random numbers.  You've got the draft paper, and the analysis script and a figure for the paper.  These are all in a directory modestly named ``nobel_prize``.\n",
      "\n",
      "In this directory, you have the paper draft ``nobel_prize.txt``, the analysis script ``very_clever_analysis.py``, and a figure for the paper ``stunning_figure.png``."
     ]
    },
    {
     "cell_type": "code",
     "collapsed": false,
     "input": [
      "# Make the directory for the paper and change into the directory\n",
      "from os import chdir, getcwd, mkdir, listdir\n",
      "from os.path import split as psplit, abspath, isdir\n",
      "import shutil\n",
      "# If we are in the nobel_prize directory already, get out\n",
      "current_path = abspath(getcwd())\n",
      "if current_path.endswith('nobel_prize'):\n",
      "    chdir('..') # Change down a directory\n",
      "# If the directory exists, nuke it\n",
      "if isdir('nobel_prize'):\n",
      "    shutil.rmtree('nobel_prize')\n",
      "# Make the new directory, and change to it\n",
      "mkdir('nobel_prize')\n",
      "chdir('nobel_prize')\n",
      "# Check we are there\n",
      "print(getcwd())\n",
      "# The directory should be empty at this point\n",
      "assert listdir('.') == []"
     ],
     "language": "python",
     "metadata": {
      "slideshow": {
       "slide_type": "skip"
      }
     },
     "outputs": [
      {
       "output_type": "stream",
       "stream": "stdout",
       "text": [
        "/Users/mb312/dev_trees/boot-camps/version-control/git/nobel_prize\n"
       ]
      }
     ],
     "prompt_number": 1
    },
    {
     "cell_type": "code",
     "collapsed": false,
     "input": [
      "%%file nobel_prize.txt\n",
      "The brain is just a set of random numbers\n",
      "=========================================\n",
      "\n",
      "We have discovered that the brain is a set of random numbers.\n",
      "\n",
      "We have charts and graphs to back us up."
     ],
     "language": "python",
     "metadata": {
      "slideshow": {
       "slide_type": "skip"
      }
     },
     "outputs": [
      {
       "output_type": "stream",
       "stream": "stdout",
       "text": [
        "Writing nobel_prize.txt\n"
       ]
      }
     ],
     "prompt_number": 2
    },
    {
     "cell_type": "code",
     "collapsed": false,
     "input": [
      "%%file very_clever_analysis.py\n",
      "# The brain analysis script\n",
      "import numpy as np\n",
      "\n",
      "# Make brain data\n",
      "brain_size = (128, 128)\n",
      "random_data = np.random.normal(size=brain_size)"
     ],
     "language": "python",
     "metadata": {
      "slideshow": {
       "slide_type": "skip"
      }
     },
     "outputs": [
      {
       "output_type": "stream",
       "stream": "stdout",
       "text": [
        "Overwriting very_clever_analysis.py\n"
       ]
      }
     ],
     "prompt_number": 6
    },
    {
     "cell_type": "code",
     "collapsed": false,
     "input": [
      "# Write the analysis figure to disk as a png file.\n",
      "%pylab inline\n",
      "more_random_data = np.random.normal(size=(128, 128))\n",
      "plt.imshow(more_random_data, cmap='gray')\n",
      "plt.savefig('stunning_figure.png')"
     ],
     "language": "python",
     "metadata": {
      "slideshow": {
       "slide_type": "skip"
      }
     },
     "outputs": [
      {
       "output_type": "stream",
       "stream": "stdout",
       "text": [
        "\n",
        "Welcome to pylab, a matplotlib-based Python environment [backend: module://IPython.kernel.zmq.pylab.backend_inline].\n",
        "For more information, type 'help(pylab)'.\n"
       ]
      },
      {
       "output_type": "display_data",
       "png": "[encoded data removed]",
       "text": [
        "<matplotlib.figure.Figure at 0x105a47a10>"
       ]
      }
     ],
     "prompt_number": 8
    },
    {
     "cell_type": "code",
     "collapsed": false,
     "input": [
      "import os\n",
      "os.listdir('.')"
     ],
     "language": "python",
     "metadata": {},
     "outputs": [
      {
       "output_type": "pyout",
       "prompt_number": 6,
       "text": [
        "['nobel_prize.txt', 'stunning_figure.png', 'very_clever_analysis.py']"
       ]
      }
     ],
     "prompt_number": 6
    },
    {
     "cell_type": "heading",
     "level": 2,
     "metadata": {
      "slideshow": {
       "slide_type": "slide"
      }
     },
     "source": [
      "The dog ate my results"
     ]
    },
    {
     "cell_type": "markdown",
     "metadata": {},
     "source": [
      "You've been working on this paper for a while.\n",
      "\n",
      "About 2 weeks ago, you were very excited with the results.  You ran the script, made the figure, and went to your advisor, Josephine.  She was excited too.  The figure looks good!  You get ready to publish in Science.\n",
      "\n",
      "Today you finished cleaning up for the Science paper, and reran the analysis, and it doesn't look that good anymore.  You go to see Josephine.  She says \"It used to look better than that\".  That's what you think too.  But:\n",
      "\n",
      "* **Did it really look better before?**\n",
      "* If it did, **why does it look different now?**"
     ]
    },
    {
     "cell_type": "heading",
     "level": 2,
     "metadata": {
      "slideshow": {
       "slide_type": "slide"
      }
     },
     "source": [
      "Deja vu all over again"
     ]
    },
    {
     "cell_type": "markdown",
     "metadata": {},
     "source": [
      "Given you are so clever and you have worked out the brain, it's really easy for you to leap in your time machine, and go back two weeks to start again.\n",
      "\n",
      "What are you going to do differently this time?"
     ]
    },
    {
     "cell_type": "heading",
     "level": 2,
     "metadata": {
      "slideshow": {
       "slide_type": "slide"
      }
     },
     "source": [
      "Make regular snapshots"
     ]
    },
    {
     "cell_type": "markdown",
     "metadata": {
      "slideshow": {
       "slide_type": "-"
      }
     },
     "source": [
      "You decide to make your own content management system called ``fancy_backups``.\n",
      "\n",
      "It's very simple.\n",
      "\n",
      "Every time you finish doing some work on your paper, you make a snapshot of the analysis directory.\n",
      "\n",
      "The snapshot is just a copy of all the files in the directory, kept somewhere safe.\n",
      "\n",
      "You make a directory to store the snapshots called ``.fancy_backups``:"
     ]
    },
    {
     "cell_type": "code",
     "collapsed": false,
     "input": [
      "!mkdir .fancy_backups"
     ],
     "language": "python",
     "metadata": {},
     "outputs": [],
     "prompt_number": 7
    },
    {
     "cell_type": "markdown",
     "metadata": {},
     "source": [
      "Then you make a directory for the first backup:"
     ]
    },
    {
     "cell_type": "code",
     "collapsed": false,
     "input": [
      "!mkdir .fancy_backups/1\n",
      "!mkdir .fancy_backups/1/files"
     ],
     "language": "python",
     "metadata": {},
     "outputs": [],
     "prompt_number": 8
    },
    {
     "cell_type": "markdown",
     "metadata": {},
     "source": [
      "And you copy the files there:"
     ]
    },
    {
     "cell_type": "code",
     "collapsed": false,
     "input": [
      "!cp * .fancy_backups/1/files"
     ],
     "language": "python",
     "metadata": {},
     "outputs": [],
     "prompt_number": 9
    },
    {
     "cell_type": "markdown",
     "metadata": {
      "slideshow": {
       "slide_type": "slide"
      }
     },
     "source": [
      "For good measure, you put a file in the snapshot directory to remind you when you did the snapshot, and who did it, and what was new for this snapshot"
     ]
    },
    {
     "cell_type": "code",
     "collapsed": false,
     "input": [
      "%%file .fancy_backups/1/info.txt\n",
      "Date: April 1 2012, 14.30\n",
      "Author: I. M. Awesome\n",
      "Notes: First backup of my amazing idea"
     ],
     "language": "python",
     "metadata": {},
     "outputs": [
      {
       "output_type": "stream",
       "stream": "stdout",
       "text": [
        "Writing .fancy_backups/1/info.txt"
       ]
      },
      {
       "output_type": "stream",
       "stream": "stdout",
       "text": [
        "\n"
       ]
      }
     ],
     "prompt_number": 10
    },
    {
     "cell_type": "markdown",
     "metadata": {},
     "source": [
      "Now you have these files in the ``nobel_prize`` directory:"
     ]
    },
    {
     "cell_type": "code",
     "collapsed": false,
     "input": [
      "!tree -a"
     ],
     "language": "python",
     "metadata": {
      "slideshow": {
       "slide_type": "-"
      }
     },
     "outputs": [
      {
       "output_type": "stream",
       "stream": "stdout",
       "text": [
        ".\r\n",
        "\u251c\u2500\u2500 .fancy_backups\r\n",
        "\u2502\u00a0\u00a0 \u2514\u2500\u2500 1\r\n",
        "\u2502\u00a0\u00a0     \u251c\u2500\u2500 files\r\n",
        "\u2502\u00a0\u00a0     \u2502\u00a0\u00a0 \u251c\u2500\u2500 nobel_prize.txt\r\n",
        "\u2502\u00a0\u00a0     \u2502\u00a0\u00a0 \u251c\u2500\u2500 stunning_figure.png\r\n",
        "\u2502\u00a0\u00a0     \u2502\u00a0\u00a0 \u2514\u2500\u2500 very_clever_analysis.py\r\n",
        "\u2502\u00a0\u00a0     \u2514\u2500\u2500 info.txt\r\n",
        "\u251c\u2500\u2500 nobel_prize.txt\r\n",
        "\u251c\u2500\u2500 stunning_figure.png\r\n",
        "\u2514\u2500\u2500 very_clever_analysis.py\r\n",
        "\r\n",
        "3 directories, 7 files\r\n"
       ]
      }
     ],
     "prompt_number": 11
    },
    {
     "cell_type": "markdown",
     "metadata": {
      "slideshow": {
       "slide_type": "subslide"
      }
     },
     "source": [
      "You may not have the ``tree`` command:\n",
      "    \n",
      "* On OSX see [installing tree](http://shaunchapman.me/post/329270449/how-to-install-the-tree-command-on-mac-os-x)\n",
      "* On Linux try ``sudo apt-get install tree`` on Debian / Ubuntu\n",
      "* On Windows you might already have a `tree` command - see [Windows XP tree](http://www.microsoft.com/resources/documentation/windows/xp/all/proddocs/en-us/tree.mspx?mfr=true)"
     ]
    },
    {
     "cell_type": "markdown",
     "metadata": {
      "slideshow": {
       "slide_type": "slide"
      }
     },
     "source": [
      "Every time you do some work on the files, you back them up in the same way.  After a few days:"
     ]
    },
    {
     "cell_type": "code",
     "collapsed": false,
     "input": [
      "!echo \"The charts are very impressive\\n\" >> nobel_prize.txt\n",
      "!mkdir .fancy_backups/2\n",
      "!mkdir .fancy_backups/2/files\n",
      "!cp * .fancy_backups/2/files"
     ],
     "language": "python",
     "metadata": {
      "slideshow": {
       "slide_type": "skip"
      }
     },
     "outputs": [],
     "prompt_number": 12
    },
    {
     "cell_type": "code",
     "collapsed": false,
     "input": [
      "%%file .fancy_backups/2/info.txt\n",
      "Date: April 1 2012, 18.03\n",
      "Author: I. M. Awesome\n",
      "Notes: Fruit of enormous thought"
     ],
     "language": "python",
     "metadata": {
      "slideshow": {
       "slide_type": "skip"
      }
     },
     "outputs": [
      {
       "output_type": "stream",
       "stream": "stdout",
       "text": [
        "Writing .fancy_backups/2/info.txt"
       ]
      },
      {
       "output_type": "stream",
       "stream": "stdout",
       "text": [
        "\n"
       ]
      }
     ],
     "prompt_number": 13
    },
    {
     "cell_type": "code",
     "collapsed": false,
     "input": [
      "!echo \"The graphs are also compelling\\n\" >> nobel_prize.txt\n",
      "!mkdir .fancy_backups/3\n",
      "!mkdir .fancy_backups/3/files\n",
      "!cp * .fancy_backups/3/files"
     ],
     "language": "python",
     "metadata": {
      "slideshow": {
       "slide_type": "skip"
      }
     },
     "outputs": [],
     "prompt_number": 14
    },
    {
     "cell_type": "code",
     "collapsed": false,
     "input": [
      "%%file .fancy_backups/3/info.txt\n",
      "Date: April 2 2012, 11.20\n",
      "Author: I. M. Awesome\n",
      "Notes: Now seeing things clearly"
     ],
     "language": "python",
     "metadata": {
      "slideshow": {
       "slide_type": "skip"
      }
     },
     "outputs": [
      {
       "output_type": "stream",
       "stream": "stdout",
       "text": [
        "Writing .fancy_backups/3/info.txt"
       ]
      },
      {
       "output_type": "stream",
       "stream": "stdout",
       "text": [
        "\n"
       ]
      }
     ],
     "prompt_number": 15
    },
    {
     "cell_type": "code",
     "collapsed": false,
     "input": [
      "!tree -a"
     ],
     "language": "python",
     "metadata": {},
     "outputs": [
      {
       "output_type": "stream",
       "stream": "stdout",
       "text": [
        ".\r\n",
        "\u251c\u2500\u2500 .fancy_backups\r\n",
        "\u2502\u00a0\u00a0 \u251c\u2500\u2500 1\r\n",
        "\u2502\u00a0\u00a0 \u2502\u00a0\u00a0 \u251c\u2500\u2500 files\r\n",
        "\u2502\u00a0\u00a0 \u2502\u00a0\u00a0 \u2502\u00a0\u00a0 \u251c\u2500\u2500 nobel_prize.txt\r\n",
        "\u2502\u00a0\u00a0 \u2502\u00a0\u00a0 \u2502\u00a0\u00a0 \u251c\u2500\u2500 stunning_figure.png\r\n",
        "\u2502\u00a0\u00a0 \u2502\u00a0\u00a0 \u2502\u00a0\u00a0 \u2514\u2500\u2500 very_clever_analysis.py\r\n",
        "\u2502\u00a0\u00a0 \u2502\u00a0\u00a0 \u2514\u2500\u2500 info.txt\r\n",
        "\u2502\u00a0\u00a0 \u251c\u2500\u2500 2\r\n",
        "\u2502\u00a0\u00a0 \u2502\u00a0\u00a0 \u251c\u2500\u2500 files\r\n",
        "\u2502\u00a0\u00a0 \u2502\u00a0\u00a0 \u2502\u00a0\u00a0 \u251c\u2500\u2500 nobel_prize.txt\r\n",
        "\u2502\u00a0\u00a0 \u2502\u00a0\u00a0 \u2502\u00a0\u00a0 \u251c\u2500\u2500 stunning_figure.png\r\n",
        "\u2502\u00a0\u00a0 \u2502\u00a0\u00a0 \u2502\u00a0\u00a0 \u2514\u2500\u2500 very_clever_analysis.py\r\n",
        "\u2502\u00a0\u00a0 \u2502\u00a0\u00a0 \u2514\u2500\u2500 info.txt\r\n",
        "\u2502\u00a0\u00a0 \u2514\u2500\u2500 3\r\n",
        "\u2502\u00a0\u00a0     \u251c\u2500\u2500 files\r\n",
        "\u2502\u00a0\u00a0     \u2502\u00a0\u00a0 \u251c\u2500\u2500 nobel_prize.txt\r\n",
        "\u2502\u00a0\u00a0     \u2502\u00a0\u00a0 \u251c\u2500\u2500 stunning_figure.png\r\n",
        "\u2502\u00a0\u00a0     \u2502\u00a0\u00a0 \u2514\u2500\u2500 very_clever_analysis.py\r\n",
        "\u2502\u00a0\u00a0     \u2514\u2500\u2500 info.txt\r\n",
        "\u251c\u2500\u2500 nobel_prize.txt\r\n",
        "\u251c\u2500\u2500 stunning_figure.png\r\n",
        "\u2514\u2500\u2500 very_clever_analysis.py\r\n",
        "\r\n",
        "7 directories, 15 files\r\n"
       ]
      }
     ],
     "prompt_number": 16
    },
    {
     "cell_type": "code",
     "collapsed": false,
     "input": [
      "# Now we just cheat, and copy the commits\n",
      "!cp -r .fancy_backups/3 .fancy_backups/4\n",
      "!cp -r .fancy_backups/3 .fancy_backups/5\n",
      "!cp -r .fancy_backups/3 .fancy_backups/6"
     ],
     "language": "python",
     "metadata": {
      "slideshow": {
       "slide_type": "skip"
      }
     },
     "outputs": [],
     "prompt_number": 17
    },
    {
     "cell_type": "markdown",
     "metadata": {
      "slideshow": {
       "slide_type": "slide"
      }
     },
     "source": [
      "You keep doing this, until again the day comes to talk to Josephine.  You now have 5 backups.\n",
      "\n",
      "The future has not changed. Josephine again thinks the results have changed.  But now - you can check.\n",
      "\n",
      "You go back and look at `.fancy_backups/1/stunning_figure.png`.  It does look different.\n",
      "\n",
      "You go through all the `.fancy_backups` directories in order.  It turns out that the figure changes in `.fancy_backups/4`.\n",
      "\n",
      "You look in `.fancy_backups/4/info.txt` and it says:\n",
      "    \n",
      "    Date: April 8 2012, 01.40\n",
      "    Author: I. M. Awesome\n",
      "    Notes: I always get the best ideas after I have been drinking.\n",
      "        \n",
      "Aha.  Then you go find the problem in `fancy_backups/4/very_clever_analysis.py`.\n",
      "        \n",
      "You fix `very_clever_analysis.py`.\n",
      "\n",
      "You make a new snapshot `.fancy_backups/6`.\n",
      "\n",
      "Back on track for a scientific breakthrough"
     ]
    },
    {
     "cell_type": "heading",
     "level": 2,
     "metadata": {
      "slideshow": {
       "slide_type": "slide"
      }
     },
     "source": [
      "Terminology breakout"
     ]
    },
    {
     "cell_type": "markdown",
     "metadata": {},
     "source": [
      "Here are some [terms](https://www.kernel.org/pub/software/scm/git/docs/gitglossary.html).\n",
      "\n",
      "* Working tree: the files you are working on in the current directory (`nobel_prize`).  The files `very_clever_analysis.py`, `nobel_prize.txt`, `stunning_figure.png` are the files in your working tree\n",
      "* Repository: the directory containing information about the history of the files.  Your directory `.fancy_snapshot` is the repository.\n",
      "* Commit: a completed snapshot.  For example, `.fancy_backups/1` contains one commit.\n",
      "    \n",
      "We'll use these terms to get used to them."
     ]
    },
    {
     "cell_type": "heading",
     "level": 2,
     "metadata": {
      "slideshow": {
       "slide_type": "slide"
      }
     },
     "source": [
      "Dreaming the dream"
     ]
    },
    {
     "cell_type": "markdown",
     "metadata": {},
     "source": [
      "You and Josphine agree on this version of the paper.  You submit the paper to *Science*.  You send them the paper as of the latest *commit* (snapshot) stored at ``.fancy_backups/6``.\n",
      "\n",
      "You want to remember which version you sent to *Science* in case you need to go back to it.\n",
      "\n",
      "You make a note to yourself in your `.fancy_backups`:"
     ]
    },
    {
     "cell_type": "code",
     "collapsed": false,
     "input": [
      "!mkdir .fancy_backups/tags"
     ],
     "language": "python",
     "metadata": {},
     "outputs": [],
     "prompt_number": 18
    },
    {
     "cell_type": "code",
     "collapsed": false,
     "input": [
      "%%file .fancy_backups/tags/submitted_to_science\n",
      "6"
     ],
     "language": "python",
     "metadata": {},
     "outputs": [
      {
       "output_type": "stream",
       "stream": "stdout",
       "text": [
        "Writing .fancy_backups/tags/submitted_to_science"
       ]
      },
      {
       "output_type": "stream",
       "stream": "stdout",
       "text": [
        "\n"
       ]
      }
     ],
     "prompt_number": 19
    },
    {
     "cell_type": "markdown",
     "metadata": {},
     "source": [
      "That reminds you that you submitted the files in `.fancy_backups/6`.\n",
      "\n",
      "You sent them the files as of commit `6`."
     ]
    },
    {
     "cell_type": "heading",
     "level": 2,
     "metadata": {
      "slideshow": {
       "slide_type": "slide"
      }
     },
     "source": [
      "Terminology update"
     ]
    },
    {
     "cell_type": "markdown",
     "metadata": {},
     "source": [
      "A *tag* is a static named reference to a commit.  Here the tag associates the name \"submitted_to_science\" with the commit \".fancy_backups/6\".  It helps you remember particular points in the history of your project."
     ]
    },
    {
     "cell_type": "markdown",
     "metadata": {
      "slideshow": {
       "slide_type": "slide"
      }
     },
     "source": [
      "While *Science* [blunts its teeth on your paper](http://web.archive.org/web/20120504150111im_/http://demotivators.despair.com/demotivational/successdemotivator.jpg), you keep working.\n",
      "\n",
      "More commits:\n",
      "    \n",
      "    .fancy_backups/7\n",
      "    .fancy_backups/8\n",
      "    .fancy_backups/9\n",
      "\n",
      "*Science* replies with some impertinent and frankly suspicious questions about what you did.\n",
      "\n",
      "You'll need to go back to where you were before and do some more analyses.\n",
      "\n",
      "Luckily, this is easy.  You check the contents of ``.fancy_backups/tags/submitted_to_science``.   It still says ``6``.\n",
      "\n",
      "Then you copy the files from commit ``6`` to your *working tree* (overwriting the files in the current directory)."
     ]
    },
    {
     "cell_type": "code",
     "collapsed": false,
     "input": [
      "!cp .fancy_backups/6/files/* ."
     ],
     "language": "python",
     "metadata": {},
     "outputs": [],
     "prompt_number": 20
    },
    {
     "cell_type": "code",
     "collapsed": false,
     "input": [
      "# More cheating - just copy the new commits from the old ones\n",
      "!cp -r .fancy_backups/3 .fancy_backups/7\n",
      "!cp -r .fancy_backups/3 .fancy_backups/8\n",
      "!cp -r .fancy_backups/3 .fancy_backups/9"
     ],
     "language": "python",
     "metadata": {
      "slideshow": {
       "slide_type": "skip"
      }
     },
     "outputs": [],
     "prompt_number": 21
    },
    {
     "cell_type": "heading",
     "level": 2,
     "metadata": {
      "slideshow": {
       "slide_type": "slide"
      }
     },
     "source": [
      "Working on more than one version at a time"
     ]
    },
    {
     "cell_type": "markdown",
     "metadata": {},
     "source": [
      "You've got the files you submitted now, in your working tree.\n",
      "\n",
      "You do some edits for the reviewers. You want to do a commit (snapshot).\n",
      "\n",
      "Now you have a problem.  What to call the new directory for the backup?  \n",
      "\n",
      "You could choose ``10`` because your last commit was `.fancy_backups/9`.\n",
      "\n",
      "That would be confusing because commit ``10`` does not follow ``9``, it follows commit ``6``.  \n",
      "\n",
      "You name your new commit ``.fancy_backups/science-7`` to try and keep track of where this *branch* of work starts.\n",
      "\n",
      "After a little more work to satisfy the famous third reviewer, you make another commit ``.fancy_backups/science-8``."
     ]
    },
    {
     "cell_type": "heading",
     "level": 2,
     "metadata": {
      "slideshow": {
       "slide_type": "slide"
      }
     },
     "source": [
      "Thinking of trees"
     ]
    },
    {
     "cell_type": "markdown",
     "metadata": {},
     "source": [
      "You could think of your project as having two *branches*.\n",
      "\n",
      "One branch you call the \"master\" branch.  That is the one you were working on before.  That branch ends with commit `9`.\n",
      "\n",
      "The other branch is the \"science\" branch.  That is the one you are working on now.  It ends with commit `science-8`."
     ]
    },
    {
     "cell_type": "code",
     "collapsed": false,
     "input": [
      "# Make a picture of history with nx\n",
      "import networkx as nx\n",
      "import numpy as np\n",
      "\n",
      "commit_graph = nx.DiGraph()\n",
      "main_line = range(1, 10)\n",
      "science_line = ['science-7', 'science-8']\n",
      "for lines in (main_line, science_line):\n",
      "    commit_graph.add_nodes_from(lines)\n",
      "    commit_graph.add_path(lines)\n",
      "commit_graph.add_edge(6, 'science-7')"
     ],
     "language": "python",
     "metadata": {
      "slideshow": {
       "slide_type": "skip"
      }
     },
     "outputs": [],
     "prompt_number": 22
    },
    {
     "cell_type": "code",
     "collapsed": false,
     "input": [
      "def label_node(pos, name, label):\n",
      "    \"\"\" Put some text above right of node \"\"\"\n",
      "    n_x, n_y = pos[name]\n",
      "    plt.text(n_x + 6, n_y + 6, label, fontsize=20)"
     ],
     "language": "python",
     "metadata": {
      "slideshow": {
       "slide_type": "skip"
      }
     },
     "outputs": [],
     "prompt_number": 23
    },
    {
     "cell_type": "code",
     "collapsed": false,
     "input": [
      "# Get node positions from graphviz dot\n",
      "pos = nx.graphviz_layout(commit_graph, 'dot', args='-Grankdir=LR')\n",
      "# Plot the graph.  Most of the setup is off-piste, here's just the output commands\n",
      "fig, ax = plt.subplots(figsize=(14, 4))\n",
      "nx.draw(commit_graph, pos, ax=ax, node_size=800, node_color='r', alpha=0.7)\n",
      "label_node(pos, 9, 'master')\n",
      "label_node(pos, 'science-8', 'science')\n",
      "os.listdir('.')\n",
      "plt.savefig('.science_master.png')"
     ],
     "language": "python",
     "metadata": {
      "slideshow": {
       "slide_type": "skip"
      }
     },
     "outputs": [
      {
       "output_type": "display_data",
       "png": "[encoded data removed]",
       "text": [
        "<matplotlib.figure.Figure at 0x106394310>"
       ]
      }
     ],
     "prompt_number": 24
    },
    {
     "cell_type": "markdown",
     "metadata": {},
     "source": [
      "![first graph](/files/nobel_prize/.science_master.png)"
     ]
    },
    {
     "cell_type": "code",
     "collapsed": false,
     "input": [
      "# Cheat cheat cheat to make the science commits\n",
      "!cp -r .fancy_backups/3 .fancy_backups/science-7\n",
      "!cp -r .fancy_backups/3 .fancy_backups/science-8\n",
      "!cp -r .fancy_backups/3 .fancy_backups/science-9"
     ],
     "language": "python",
     "metadata": {
      "slideshow": {
       "slide_type": "skip"
      }
     },
     "outputs": [],
     "prompt_number": 25
    },
    {
     "cell_type": "heading",
     "level": 2,
     "metadata": {
      "slideshow": {
       "slide_type": "slide"
      }
     },
     "source": [
      "Merging"
     ]
    },
    {
     "cell_type": "markdown",
     "metadata": {
      "slideshow": {
       "slide_type": "-"
      }
     },
     "source": [
      "You have now got to `.fancy_backups/science-9`.\n",
      "\n",
      "To your surprise and disgust, you realize that the reviewers were right, and you want to keep the fixes that you did for them.\n",
      "\n",
      "That means you want to *merge* the changes you made in `science-7`, `science-8` and `science-9` back into the main line of development.\n",
      "\n",
      "How are you going to do that?\n",
      "\n",
      "How are you going to keep track of which commit got merged?\n",
      "\n",
      "We want to keep a note somewhere that the next commit on the \"master\" line of development includes the changes from ``.fancy_backups/science-9` and previous.\n",
      "\n",
      "Then a flash of inspiration!  Put this information in the `info.txt` file for the new commit!"
     ]
    },
    {
     "cell_type": "heading",
     "level": 2,
     "metadata": {
      "slideshow": {
       "slide_type": "slide"
      }
     },
     "source": [
      "Doing the merge"
     ]
    },
    {
     "cell_type": "markdown",
     "metadata": {},
     "source": [
      "First you go back to working on the main branch.  This is simple for you now:"
     ]
    },
    {
     "cell_type": "code",
     "collapsed": false,
     "input": [
      "!cp -r .fancy_backups/9/files/* ."
     ],
     "language": "python",
     "metadata": {},
     "outputs": [],
     "prompt_number": 26
    },
    {
     "cell_type": "markdown",
     "metadata": {},
     "source": [
      "Now you have to do the merge of the files from commit `.fancy_backups/science-9` with the files in the working tree.\n",
      "\n",
      "What does this branch \"master\" need to know about the changes from \"science\"?\n",
      "\n",
      "Looking at the graph, \"master\" and \"science\" already know about changes up to commit \"6\".\n",
      "\n",
      "Commit '6' is most recent shared common ancestor.\n",
      "\n",
      "You need to find all the changes from commits since the shared common ancestor.\n",
      "\n",
      "You therefore need the changes from commits 'science-7', 'science-8', and 'science-9'. You need to apply these changes on top of \"master\" (commit '9')"
     ]
    },
    {
     "cell_type": "code",
     "collapsed": false,
     "input": [
      "commit_graph.add_node('science-9')\n",
      "commit_graph.add_edge('science-8', 'science-9')\n",
      "# Get node positions from graphviz dot\n",
      "pos = nx.graphviz_layout(commit_graph, 'dot', args='-Grankdir=LR')\n",
      "# Plot the graph.  Most of the setup is off-piste, here's just the output commands\n",
      "fig, ax = plt.subplots(figsize=(14, 4))\n",
      "nx.draw(commit_graph, pos, ax=ax, node_size=800, node_color='r', alpha=0.7)\n",
      "label_node(pos, 9, 'master')\n",
      "label_node(pos, 'science-9', 'science')\n",
      "os.listdir('.')\n",
      "plt.savefig('.science_master2.png')"
     ],
     "language": "python",
     "metadata": {
      "slideshow": {
       "slide_type": "skip"
      }
     },
     "outputs": [
      {
       "output_type": "display_data",
       "png": "[encoded data removed]",
       "text": [
        "<matplotlib.figure.Figure at 0x105a47810>"
       ]
      }
     ],
     "prompt_number": 27
    },
    {
     "cell_type": "markdown",
     "metadata": {},
     "source": [
      "![later graph](/files/nobel_prize/.science_master2.png)"
     ]
    },
    {
     "cell_type": "heading",
     "level": 2,
     "metadata": {
      "slideshow": {
       "slide_type": "slide"
      }
     },
     "source": [
      "Continued merging"
     ]
    },
    {
     "cell_type": "markdown",
     "metadata": {},
     "source": [
      "Luckily you see that during commits 'science-7', 'science-8' and 'science-9', you only changed \"nobel_prize.txt\".\n",
      "\n",
      "Luckily too, for commits \"7\", \"8\", \"9\", you only changed \"very_clever_analysis.py\".\n",
      "\n",
      "So all you have to do is copy the changed file:"
     ]
    },
    {
     "cell_type": "code",
     "collapsed": false,
     "input": [
      "!cp .fancy_backups/science-9/files/nobel_prize.txt ."
     ],
     "language": "python",
     "metadata": {},
     "outputs": [],
     "prompt_number": 28
    },
    {
     "cell_type": "markdown",
     "metadata": {},
     "source": [
      "Now you make your commit:"
     ]
    },
    {
     "cell_type": "code",
     "collapsed": false,
     "input": [
      "!mkdir .fancy_backups/10\n",
      "!mkdir .fancy_backups/10/files\n",
      "!cp * .fancy_backups/10/files"
     ],
     "language": "python",
     "metadata": {},
     "outputs": [],
     "prompt_number": 29
    },
    {
     "cell_type": "markdown",
     "metadata": {},
     "source": [
      "This time you modify your `info.txt` file slightly by adding the name of the commit that you merged:"
     ]
    },
    {
     "cell_type": "code",
     "collapsed": false,
     "input": [
      "%%file .fancy_backups/10/info.txt\n",
      "Date: May 1 2012, 14.30\n",
      "Author: I. M. Awesome\n",
      "Notes: Merge in changes from Science revisions\n",
      "Parent: science-9"
     ],
     "language": "python",
     "metadata": {},
     "outputs": [
      {
       "output_type": "stream",
       "stream": "stdout",
       "text": [
        "Writing .fancy_backups/10/info.txt"
       ]
      },
      {
       "output_type": "stream",
       "stream": "stdout",
       "text": [
        "\n"
       ]
      }
     ],
     "prompt_number": 30
    },
    {
     "cell_type": "heading",
     "level": 2,
     "metadata": {
      "slideshow": {
       "slide_type": "slide"
      }
     },
     "source": [
      "Josephine causes a mess and gives you an idea"
     ]
    },
    {
     "cell_type": "markdown",
     "metadata": {},
     "source": [
      "Now Josephine is just as excited as you are about the new results.  She has had some thoughts.\n",
      "\n",
      "She also likes your new content management system.\n",
      "\n",
      "She's going on a conference for a week.\n",
      "\n",
      "She persuades you to give her a full copy of the `nobel_prize` directory, and instructions what to do.\n",
      "\n",
      "Sure enough, she has some great thoughts.  She edits the analysis script.\n",
      "\n",
      "In order not to be confusing for you, she decides to store these in a new set of commits with prefix `test-`"
     ]
    },
    {
     "cell_type": "code",
     "collapsed": false,
     "input": [
      "# On Josephine's computer\n",
      "!mkdir .fancy_backups/test-11\n",
      "!mkdir .fancy_backups/test-11/files\n",
      "!cp * .fancy_backups/test-11/files"
     ],
     "language": "python",
     "metadata": {},
     "outputs": [],
     "prompt_number": 31
    },
    {
     "cell_type": "code",
     "collapsed": false,
     "input": [
      "%%file .fancy_backups/test-11/info.txt\n",
      "Date: May 6 2012, 18.07\n",
      "Author: Josephine Impressive\n",
      "Notes: Try out some nice new random numbers"
     ],
     "language": "python",
     "metadata": {},
     "outputs": [
      {
       "output_type": "stream",
       "stream": "stdout",
       "text": [
        "Writing .fancy_backups/test-11/info.txt"
       ]
      },
      {
       "output_type": "stream",
       "stream": "stdout",
       "text": [
        "\n"
       ]
      }
     ],
     "prompt_number": 32
    },
    {
     "cell_type": "heading",
     "level": 2,
     "metadata": {
      "slideshow": {
       "slide_type": "slide"
      }
     },
     "source": [
      "Meanwhile, back at the ranch"
     ]
    },
    {
     "cell_type": "markdown",
     "metadata": {},
     "source": [
      "You are back at the lab.\n",
      "\n",
      "You are also keen to avoid stepping on Josephine's toes.\n",
      "\n",
      "You decide to start your own set of commits.\n",
      "\n",
      "You also have the good idea of giving these commits a prefix of `test-`.  Oops."
     ]
    },
    {
     "cell_type": "code",
     "collapsed": false,
     "input": [
      "# So the commands below work correctly\n",
      "!rm -rf .fancy_backups/test-11"
     ],
     "language": "python",
     "metadata": {
      "slideshow": {
       "slide_type": "skip"
      }
     },
     "outputs": [],
     "prompt_number": 33
    },
    {
     "cell_type": "code",
     "collapsed": false,
     "input": [
      "# On your computer\n",
      "!mkdir .fancy_backups/test-11\n",
      "!mkdir .fancy_backups/test-11/files\n",
      "!cp * .fancy_backups/test-11/files"
     ],
     "language": "python",
     "metadata": {},
     "outputs": [],
     "prompt_number": 34
    },
    {
     "cell_type": "code",
     "collapsed": false,
     "input": [
      "%%file .fancy_backups/test-11/info.txt\n",
      "Date: May 7 2012, 04.32\n",
      "Author: I. M. Awesome\n",
      "Notes: Another good idea fuelled by alcohol"
     ],
     "language": "python",
     "metadata": {},
     "outputs": [
      {
       "output_type": "stream",
       "stream": "stdout",
       "text": [
        "Writing .fancy_backups/test-11/info.txt"
       ]
      },
      {
       "output_type": "stream",
       "stream": "stdout",
       "text": [
        "\n"
       ]
      }
     ],
     "prompt_number": 35
    },
    {
     "cell_type": "markdown",
     "metadata": {},
     "source": [
      "When Josephine gets back, she gives you her copy of the `nobel_prize` directory.\n",
      "\n",
      "Of course, now you both have `.fancy_backups/test-11` commits, but they are different.\n",
      "\n",
      "You might spot that, and try and fix it somehow, or you might not spot it, and mess up your careful backup system by copying Josephines files over yours, and wiping out your work."
     ]
    },
    {
     "cell_type": "heading",
     "level": 2,
     "metadata": {
      "slideshow": {
       "slide_type": "slide"
      }
     },
     "source": [
      "In adversity, inspiration"
     ]
    },
    {
     "cell_type": "markdown",
     "metadata": {},
     "source": [
      "Luckily you did spot the problem.\n",
      "\n",
      "Now you reflect on it, you realize why this problem happened.\n",
      "\n",
      "You are using the commit directory names to tell you about the graph of commits.\n",
      "\n",
      "For example, you are using the name 'science-8' to tell you that this commit is before 'science-9' and after 'science-7' in a continued line of development.\n",
      "\n",
      "That means that you constantly have to think of new prefixes for your commits, just in case you have them already.\n",
      "\n",
      "Sometimes, as in this case, there is no way that you can know if the name exists already, because you and Josephine are working apart.\n",
      "\n",
      "But you have the seeds of a solution to this problem already."
     ]
    },
    {
     "cell_type": "heading",
     "level": 2,
     "metadata": {
      "slideshow": {
       "slide_type": "slide"
      }
     },
     "source": [
      "Using commit parents to make history"
     ]
    },
    {
     "cell_type": "markdown",
     "metadata": {},
     "source": [
      "With another flash of inspiration, you realize that all you need to do is two things:\n",
      "    \n",
      "* Rename all your commits with automatic and reliably unique names\n",
      "* Link the commits by telling each commit about the previous commit"
     ]
    },
    {
     "cell_type": "markdown",
     "metadata": {},
     "source": [
      "You leap back into your time machine"
     ]
    },
    {
     "cell_type": "markdown",
     "metadata": {},
     "source": [
      "You begin again with your system, but this time, instead of thinking of a commit name yourself, you let the computer do it.\n",
      "\n",
      "You get the computer to give the commit a name made from 20 random lower-case letters and numbers.  The chances of getting two of these the same by chance are about 1 in :"
     ]
    },
    {
     "cell_type": "code",
     "collapsed": false,
     "input": [
      "n_char = 10 + 26 # lower case letters and digits\n",
      "two_same = n_char ** 20\n",
      "two_same"
     ],
     "language": "python",
     "metadata": {},
     "outputs": [
      {
       "output_type": "pyout",
       "prompt_number": 36,
       "text": [
        "13367494538843734067838845976576L"
       ]
      }
     ],
     "prompt_number": 36
    },
    {
     "cell_type": "markdown",
     "metadata": {},
     "source": [
      "So - that's not likely."
     ]
    },
    {
     "cell_type": "markdown",
     "metadata": {},
     "source": [
      "So we write a function ``uniquey_name`` to give us a random sequence of lower case letters and digits."
     ]
    },
    {
     "cell_type": "code",
     "collapsed": false,
     "input": [
      "import string\n",
      "import random\n",
      "\n",
      "def uniquey_name():\n",
      "    candidates = string.lowercase + string.digits\n",
      "    name_chars = []\n",
      "    for i in range(20):\n",
      "        name_chars.append(random.choice(candidates))\n",
      "    return ''.join(name_chars)\n",
      "\n",
      "uniquey_name()"
     ],
     "language": "python",
     "metadata": {
      "slideshow": {
       "slide_type": "subslide"
      }
     },
     "outputs": [
      {
       "output_type": "pyout",
       "prompt_number": 37,
       "text": [
        "'c1bj75y2tphhm096bsj6'"
       ]
      }
     ],
     "prompt_number": 37
    },
    {
     "cell_type": "heading",
     "level": 2,
     "metadata": {
      "slideshow": {
       "slide_type": "slide"
      }
     },
     "source": [
      "Making links between commits"
     ]
    },
    {
     "cell_type": "markdown",
     "metadata": {},
     "source": [
      "Remember we started from the beginning.  Just our raw files waiting go to into the repository."
     ]
    },
    {
     "cell_type": "code",
     "collapsed": false,
     "input": [
      "!rm -rf .fancy_backups"
     ],
     "language": "python",
     "metadata": {
      "slideshow": {
       "slide_type": "skip"
      }
     },
     "outputs": [],
     "prompt_number": 38
    },
    {
     "cell_type": "code",
     "collapsed": false,
     "input": [
      "!mkdir .fancy_backups\n",
      "commit_name = uniquey_name()\n",
      "!mkdir .fancy_backups/$commit_name\n",
      "!mkdir .fancy_backups/$commit_name/files\n",
      "!cp * .fancy_backups/$commit_name/files"
     ],
     "language": "python",
     "metadata": {},
     "outputs": [],
     "prompt_number": 39
    },
    {
     "cell_type": "code",
     "collapsed": false,
     "input": [
      "!tree -a"
     ],
     "language": "python",
     "metadata": {},
     "outputs": [
      {
       "output_type": "stream",
       "stream": "stdout",
       "text": [
        ".\r\n",
        "\u251c\u2500\u2500 .fancy_backups\r\n",
        "\u2502\u00a0\u00a0 \u251c\u2500\u2500 branches\r\n",
        "\u2502\u00a0\u00a0 \u2502\u00a0\u00a0 \u251c\u2500\u2500 main\r\n",
        "\u2502\u00a0\u00a0 \u2502\u00a0\u00a0 \u2514\u2500\u2500 science\r\n",
        "\u2502\u00a0\u00a0 \u2514\u2500\u2500 t92t5wz88a7ezo7u9ybb\r\n",
        "\u2502\u00a0\u00a0     \u2514\u2500\u2500 files\r\n",
        "\u2502\u00a0\u00a0         \u251c\u2500\u2500 nobel_prize.txt\r\n",
        "\u2502\u00a0\u00a0         \u251c\u2500\u2500 stunning_figure.png\r\n",
        "\u2502\u00a0\u00a0         \u2514\u2500\u2500 very_clever_analysis.py\r\n",
        "\u251c\u2500\u2500 .science_master.png\r\n",
        "\u251c\u2500\u2500 .science_master2.png\r\n",
        "\u251c\u2500\u2500 nobel_prize.txt\r\n",
        "\u251c\u2500\u2500 stunning_figure.png\r\n",
        "\u2514\u2500\u2500 very_clever_analysis.py\r\n",
        "\r\n",
        "4 directories, 10 files\r\n"
       ]
      }
     ],
     "prompt_number": 45
    },
    {
     "cell_type": "heading",
     "level": 2,
     "metadata": {
      "slideshow": {
       "slide_type": "slide"
      }
     },
     "source": [
      "Branches are pointers to commits"
     ]
    },
    {
     "cell_type": "markdown",
     "metadata": {},
     "source": [
      "Now you think about it, you want to keep track of which commit you are on in each branch."
     ]
    },
    {
     "cell_type": "code",
     "collapsed": false,
     "input": [
      "!mkdir .fancy_backups/branches"
     ],
     "language": "python",
     "metadata": {},
     "outputs": [],
     "prompt_number": 41
    },
    {
     "cell_type": "code",
     "collapsed": false,
     "input": [
      "%%file .fancy_backups/branches/main\n",
      "9"
     ],
     "language": "python",
     "metadata": {},
     "outputs": [
      {
       "output_type": "stream",
       "stream": "stdout",
       "text": [
        "Writing .fancy_backups/branches/main"
       ]
      },
      {
       "output_type": "stream",
       "stream": "stdout",
       "text": [
        "\n"
       ]
      }
     ],
     "prompt_number": 42
    },
    {
     "cell_type": "code",
     "collapsed": false,
     "input": [
      "%%file .fancy_backups/branches/science\n",
      "science-8"
     ],
     "language": "python",
     "metadata": {},
     "outputs": [
      {
       "output_type": "stream",
       "stream": "stdout",
       "text": [
        "Writing .fancy_backups/branches/science\n"
       ]
      }
     ],
     "prompt_number": 43
    },
    {
     "cell_type": "markdown",
     "metadata": {},
     "source": [
      "Whenever you do a new commit on a branch, you update the file.\n",
      "\n",
      "Let's say you do a new commit on the \"science\" branch, `.fancy_backups/science-9`.\n",
      "\n",
      "You then write the string 'science-9' into the file `.fancy_backups/branches/science` to keep track of where you are"
     ]
    },
    {
     "cell_type": "heading",
     "level": 2,
     "metadata": {
      "slideshow": {
       "slide_type": "slide"
      }
     },
     "source": [
      "Terminology rebooted"
     ]
    },
    {
     "cell_type": "markdown",
     "metadata": {},
     "source": [
      "**Branches**\n",
      "\n",
      "A branch is a reference to a commit.\n",
      "\n",
      "The branch reference moves each time you do a new commit.\n",
      "\n",
      "It is like a bookmark that moves as you read.  Well, as you write.\n",
      "\n",
      "**Tags**\n",
      "\n",
      "A tag is also a reference to a commit.\n",
      "\n",
      "A tag does not move when you do a new commit.  It always points to the same commit."
     ]
    }
   ],
   "metadata": {}
  }
 ]
}