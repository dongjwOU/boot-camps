{
 "metadata": {
  "name": "scientific-computing"
 },
 "nbformat": 3,
 "nbformat_minor": 0,
 "worksheets": [
  {
   "cells": [
    {
     "cell_type": "markdown",
     "metadata": {},
     "source": [
      "Scientific Computing in Python\n",
      "=============\n",
      "\n",
      "We don't have the time to go through this materially as thoroughly as one would need to do in order to become productive. Additionally, every field is different, and the subset of functionality will differ across disciplines.\n",
      "\n",
      "Here's an [excellent set of lecture notes](http://scipy-lectures.github.io/), which you can refer to later. Each individual project also has good documentation that goes into the nitty-gritty.\n",
      "\n",
      "First, a poll\n",
      "----------------\n",
      "Matlab users? IDL? Mathematica? Something else?\n",
      "\n",
      "\n",
      "The [SciPy Universe](http://scipy.org) is different\n",
      "--------------------------------\n",
      "\n",
      "There are many loosely-coupled packaged, all independently developed, with a loose confederation among them. \n",
      "\n",
      "The Trinity\n",
      "------------\n",
      "\n",
      "You can't get away with doing science without using these: `numpy`, `scipy`, and `matplotlib`.\n",
      "\n",
      "Beyond that, there are many, many packages that either specialize.\n",
      "\n",
      "\n",
      "[NumPy](http://numpy.org)\n",
      "------\n",
      "\n",
      "The base package for array operations in the Python world is called [NumPy](www.numpy.org)\n",
      "\n",
      "A much more fleshed out lecture on NumPy in the [`python/numpy`](https://github.com/ivanov/boot-camps/tree/2013-07-OU/python/numpy) of our bootcamp repository."
     ]
    },
    {
     "cell_type": "code",
     "collapsed": false,
     "input": [
      "import numpy as np"
     ],
     "language": "python",
     "metadata": {},
     "outputs": [],
     "prompt_number": 1
    },
    {
     "cell_type": "code",
     "collapsed": false,
     "input": [
      "first_array = np.array([1, np, 5])"
     ],
     "language": "python",
     "metadata": {},
     "outputs": [],
     "prompt_number": 2
    },
    {
     "cell_type": "code",
     "collapsed": false,
     "input": [
      "seq = np.arange(-np.pi, np.pi, .1)"
     ],
     "language": "python",
     "metadata": {},
     "outputs": [],
     "prompt_number": 3
    },
    {
     "cell_type": "code",
     "collapsed": false,
     "input": [
      "seq.sum()"
     ],
     "language": "python",
     "metadata": {},
     "outputs": [
      {
       "metadata": {},
       "output_type": "pyout",
       "prompt_number": 4,
       "text": [
        "-2.62033717615678"
       ]
      }
     ],
     "prompt_number": 4
    },
    {
     "cell_type": "code",
     "collapsed": false,
     "input": [
      "np.cos(seq)"
     ],
     "language": "python",
     "metadata": {},
     "outputs": [
      {
       "metadata": {},
       "output_type": "pyout",
       "prompt_number": 5,
       "text": [
        "array([-1.        , -0.99500417, -0.98006658, -0.95533649, -0.92106099,\n",
        "       -0.87758256, -0.82533561, -0.76484219, -0.69670671, -0.62160997,\n",
        "       -0.54030231, -0.45359612, -0.36235775, -0.26749883, -0.16996714,\n",
        "       -0.0707372 ,  0.02919952,  0.12884449,  0.22720209,  0.32328957,\n",
        "        0.41614684,  0.5048461 ,  0.58850112,  0.66627602,  0.73739372,\n",
        "        0.80114362,  0.85688875,  0.90407214,  0.94222234,  0.97095817,\n",
        "        0.9899925 ,  0.99913515,  0.99829478,  0.98747977,  0.96679819,\n",
        "        0.93645669,  0.89675842,  0.84810003,  0.79096771,  0.7259323 ,\n",
        "        0.65364362,  0.57482395,  0.49026082,  0.40079917,  0.30733287,\n",
        "        0.2107958 ,  0.11215253,  0.01238866, -0.08749898, -0.18651237,\n",
        "       -0.28366219, -0.37797774, -0.46851667, -0.55437434, -0.63469288,\n",
        "       -0.70866977, -0.77556588, -0.83471278, -0.88551952, -0.92747843,\n",
        "       -0.96017029, -0.98326844, -0.9965421 ])"
       ]
      }
     ],
     "prompt_number": 5
    },
    {
     "cell_type": "code",
     "collapsed": false,
     "input": [
      "seq[0:5]"
     ],
     "language": "python",
     "metadata": {},
     "outputs": [
      {
       "metadata": {},
       "output_type": "pyout",
       "prompt_number": 6,
       "text": [
        "array([-3.14159265, -3.04159265, -2.94159265, -2.84159265, -2.74159265])"
       ]
      }
     ],
     "prompt_number": 6
    },
    {
     "cell_type": "markdown",
     "metadata": {},
     "source": [
      "Making arrays\n",
      "--------------"
     ]
    },
    {
     "cell_type": "code",
     "collapsed": false,
     "input": [
      "mask = seq < 0"
     ],
     "language": "python",
     "metadata": {},
     "outputs": [],
     "prompt_number": 7
    },
    {
     "cell_type": "code",
     "collapsed": false,
     "input": [
      "seq[mask]"
     ],
     "language": "python",
     "metadata": {},
     "outputs": [
      {
       "metadata": {},
       "output_type": "pyout",
       "prompt_number": 8,
       "text": [
        "array([-3.14159265, -3.04159265, -2.94159265, -2.84159265, -2.74159265,\n",
        "       -2.64159265, -2.54159265, -2.44159265, -2.34159265, -2.24159265,\n",
        "       -2.14159265, -2.04159265, -1.94159265, -1.84159265, -1.74159265,\n",
        "       -1.64159265, -1.54159265, -1.44159265, -1.34159265, -1.24159265,\n",
        "       -1.14159265, -1.04159265, -0.94159265, -0.84159265, -0.74159265,\n",
        "       -0.64159265, -0.54159265, -0.44159265, -0.34159265, -0.24159265,\n",
        "       -0.14159265, -0.04159265])"
       ]
      }
     ],
     "prompt_number": 8
    },
    {
     "cell_type": "code",
     "collapsed": false,
     "input": [
      "len(seq[mask])"
     ],
     "language": "python",
     "metadata": {},
     "outputs": [
      {
       "metadata": {},
       "output_type": "pyout",
       "prompt_number": 9,
       "text": [
        "32"
       ]
      }
     ],
     "prompt_number": 9
    },
    {
     "cell_type": "code",
     "collapsed": false,
     "input": [
      "seq / np.cos(seq)"
     ],
     "language": "python",
     "metadata": {},
     "outputs": [
      {
       "metadata": {},
       "output_type": "pyout",
       "prompt_number": 10,
       "text": [
        "array([  3.14159265e+00,   3.05686424e+00,   3.00142125e+00,\n",
        "         2.97444166e+00,   2.97655928e+00,   3.01007879e+00,\n",
        "         3.07946562e+00,   3.19228292e+00,   3.36094460e+00,\n",
        "         3.60610796e+00,   3.96369334e+00,   4.50090412e+00,\n",
        "         5.35822024e+00,   6.88448867e+00,   1.02466431e+01,\n",
        "         2.32069210e+01,  -5.27951327e+01,  -1.11886244e+01,\n",
        "        -5.90484280e+00,  -3.84049713e+00,  -2.74324482e+00,\n",
        "        -2.06318845e+00,  -1.59998448e+00,  -1.26312913e+00,\n",
        "        -1.00569430e+00,  -8.00845992e-01,  -6.32045469e-01,\n",
        "        -4.88448469e-01,  -3.62539327e-01,  -2.48818808e-01,\n",
        "        -1.43023966e-01,  -4.16286561e-02,   5.85071142e-02,\n",
        "         1.60415789e-01,   2.67281578e-01,   3.82727094e-01,\n",
        "         5.11182653e-01,   6.58421561e-01,   8.32407362e-01,\n",
        "         1.04473563e+00,   1.31326509e+00,   1.66730588e+00,\n",
        "         2.15886585e+00,   2.89024386e+00,   4.09460708e+00,\n",
        "         6.44418603e+00,   1.30037850e+01,   1.25793016e+02,\n",
        "        -1.89534470e+01,  -9.42783233e+00,  -6.55148075e+00,\n",
        "        -5.18127690e+00,  -4.39345593e+00,  -3.89341137e+00,\n",
        "        -3.55826799e+00,  -3.32793557e+00,  -3.16982401e+00,\n",
        "        -3.06501517e+00,  -3.00208781e+00,  -2.97409326e+00,\n",
        "        -2.97697959e+00,  -3.00874841e+00,  -3.06901972e+00])"
       ]
      }
     ],
     "prompt_number": 10
    },
    {
     "cell_type": "code",
     "collapsed": false,
     "input": [
      "seq * seq"
     ],
     "language": "python",
     "metadata": {},
     "outputs": [
      {
       "metadata": {},
       "output_type": "pyout",
       "prompt_number": 11,
       "text": [
        "array([  9.86960440e+00,   9.25128587e+00,   8.65296734e+00,\n",
        "         8.07464881e+00,   7.51633028e+00,   6.97801175e+00,\n",
        "         6.45969322e+00,   5.96137469e+00,   5.48305616e+00,\n",
        "         5.02473762e+00,   4.58641909e+00,   4.16810056e+00,\n",
        "         3.76978203e+00,   3.39146350e+00,   3.03314497e+00,\n",
        "         2.69482644e+00,   2.37650791e+00,   2.07818938e+00,\n",
        "         1.79987085e+00,   1.54155232e+00,   1.30323379e+00,\n",
        "         1.08491526e+00,   8.86596725e-01,   7.08278195e-01,\n",
        "         5.49959664e-01,   4.11641133e-01,   2.93322602e-01,\n",
        "         1.95004072e-01,   1.16685541e-01,   5.83670103e-02,\n",
        "         2.00484796e-02,   1.72994883e-03,   3.41141811e-03,\n",
        "         2.50928874e-02,   6.67743567e-02,   1.28455826e-01,\n",
        "         2.10137295e-01,   3.11818765e-01,   4.33500234e-01,\n",
        "         5.75181703e-01,   7.36863172e-01,   9.18544642e-01,\n",
        "         1.12022611e+00,   1.34190758e+00,   1.58358905e+00,\n",
        "         1.84527052e+00,   2.12695199e+00,   2.42863346e+00,\n",
        "         2.75031493e+00,   3.09199640e+00,   3.45367787e+00,\n",
        "         3.83535933e+00,   4.23704080e+00,   4.65872227e+00,\n",
        "         5.10040374e+00,   5.56208521e+00,   6.04376668e+00,\n",
        "         6.54544815e+00,   7.06712962e+00,   7.60881109e+00,\n",
        "         8.17049256e+00,   8.75217403e+00,   9.35385550e+00])"
       ]
      }
     ],
     "prompt_number": 11
    },
    {
     "cell_type": "code",
     "collapsed": false,
     "input": [
      "seq.shape"
     ],
     "language": "python",
     "metadata": {},
     "outputs": [
      {
       "metadata": {},
       "output_type": "pyout",
       "prompt_number": 12,
       "text": [
        "(63,)"
       ]
      }
     ],
     "prompt_number": 12
    },
    {
     "cell_type": "code",
     "collapsed": false,
     "input": [
      "seq.shape = 63, 1"
     ],
     "language": "python",
     "metadata": {},
     "outputs": [],
     "prompt_number": 13
    },
    {
     "cell_type": "markdown",
     "metadata": {},
     "source": [
      "Matrix multiplication\n",
      "----------------"
     ]
    },
    {
     "cell_type": "code",
     "collapsed": false,
     "input": [
      "seq.T.dot(seq)"
     ],
     "language": "python",
     "metadata": {},
     "outputs": [
      {
       "metadata": {},
       "output_type": "pyout",
       "prompt_number": 14,
       "text": [
        "array([[ 208.42898678]])"
       ]
      }
     ],
     "prompt_number": 14
    },
    {
     "cell_type": "code",
     "collapsed": false,
     "input": [
      "seq.dot(seq.T)"
     ],
     "language": "python",
     "metadata": {},
     "outputs": [
      {
       "metadata": {},
       "output_type": "pyout",
       "prompt_number": 15,
       "text": [
        "array([[ 9.8696044 ,  9.55544514,  9.24128587, ..., -8.97995152,\n",
        "        -9.29411079, -9.60827005],\n",
        "       [ 9.55544514,  9.25128587,  8.94712661, ..., -8.69411079,\n",
        "        -8.99827005, -9.30242932],\n",
        "       [ 9.24128587,  8.94712661,  8.65296734, ..., -8.40827005,\n",
        "        -8.70242932, -8.99658858],\n",
        "       ..., \n",
        "       [-8.97995152, -8.69411079, -8.40827005, ...,  8.17049256,\n",
        "         8.45633329,  8.74217403],\n",
        "       [-9.29411079, -8.99827005, -8.70242932, ...,  8.45633329,\n",
        "         8.75217403,  9.04801476],\n",
        "       [-9.60827005, -9.30242932, -8.99658858, ...,  8.74217403,\n",
        "         9.04801476,  9.3538555 ]])"
       ]
      }
     ],
     "prompt_number": 15
    },
    {
     "cell_type": "markdown",
     "metadata": {},
     "source": [
      "Slicing with arrays\n",
      "-------------------\n",
      "\n",
      "You can filter data that fits some criteria by creating a boolean mask, and indexing using that."
     ]
    },
    {
     "cell_type": "code",
     "collapsed": false,
     "input": [
      "transquility_now = np.random.randn(100)"
     ],
     "language": "python",
     "metadata": {},
     "outputs": [],
     "prompt_number": 16
    },
    {
     "cell_type": "code",
     "collapsed": false,
     "input": [
      "insanity_later = transquility_now[ transquility_now < 0 ] "
     ],
     "language": "python",
     "metadata": {},
     "outputs": [],
     "prompt_number": 17
    },
    {
     "cell_type": "code",
     "collapsed": false,
     "input": [
      "print transquility_now.shape\n",
      "print insanity_later.shape"
     ],
     "language": "python",
     "metadata": {},
     "outputs": [
      {
       "output_type": "stream",
       "stream": "stdout",
       "text": [
        "(100,)\n",
        "(42,)\n"
       ]
      }
     ],
     "prompt_number": 18
    },
    {
     "cell_type": "markdown",
     "metadata": {},
     "source": [
      "Broadcasting\n",
      "-------------\n",
      "\n",
      "This feature of NumPy can be a bit tricky, but [something to be aware of](http://docs.scipy.org/doc/numpy/user/basics.broadcasting.html)."
     ]
    },
    {
     "cell_type": "code",
     "collapsed": false,
     "input": [],
     "language": "python",
     "metadata": {},
     "outputs": [],
     "prompt_number": 18
    },
    {
     "cell_type": "markdown",
     "metadata": {},
     "source": [
      "Matlab Rosetta Stone\n",
      "--------------------\n",
      "\n",
      "0. 0 based indexing indexing\n",
      "1. slicing and range use the [a,b) half open interval (not including b)\n",
      "2. whitespace matters, it delineates code blocks \n",
      "    there is no endif, end, endfunction - they are implicit.\n",
      "3. functions are first class objects (you can pass them around directly)\n",
      "    @notation in matlab\n",
      "4. A = B does **not** make a copy of B, both A and B are labels for the same thing.\n",
      "5. All operation on arrays are elementwise by default (think `.*` `.+` `.-` etc)\n",
      "6. Transpose with a.T (a' in matlab)\n",
      "\n"
     ]
    },
    {
     "cell_type": "markdown",
     "metadata": {},
     "source": [
      "[SciPy](http://scipy.org/scipylib/index.html)\n",
      "======"
     ]
    },
    {
     "cell_type": "markdown",
     "metadata": {},
     "source": [
      "\n",
      "\n",
      "There is more functionality in the scipy package (which builds on top of numpy), and wraps many of the venerable Fortran and C libraries.\n",
      "\n",
      "A much more fleshed out lecture on SciPy in the [`python/scipy`](https://github.com/ivanov/boot-camps/tree/2013-07-OU/python/scipy) of our bootcamp repository."
     ]
    },
    {
     "cell_type": "code",
     "collapsed": false,
     "input": [
      "import scipy as sp"
     ],
     "language": "python",
     "metadata": {},
     "outputs": [],
     "prompt_number": 19
    },
    {
     "cell_type": "markdown",
     "metadata": {},
     "source": [
      "One that you might be interested in, in particular, is being able to read/write `.mat` files which matlab can interpret."
     ]
    },
    {
     "cell_type": "code",
     "collapsed": false,
     "input": [
      "import scipy.io as sio"
     ],
     "language": "python",
     "metadata": {},
     "outputs": [],
     "prompt_number": 20
    },
    {
     "cell_type": "code",
     "collapsed": false,
     "input": [
      "sio.loadmat"
     ],
     "language": "python",
     "metadata": {},
     "outputs": [
      {
       "metadata": {},
       "output_type": "pyout",
       "prompt_number": 21,
       "text": [
        "<function scipy.io.matlab.mio.loadmat>"
       ]
      }
     ],
     "prompt_number": 21
    },
    {
     "cell_type": "code",
     "collapsed": false,
     "input": [
      "sio.savemat"
     ],
     "language": "python",
     "metadata": {},
     "outputs": [
      {
       "metadata": {},
       "output_type": "pyout",
       "prompt_number": 22,
       "text": [
        "<function scipy.io.matlab.mio.savemat>"
       ]
      }
     ],
     "prompt_number": 22
    },
    {
     "cell_type": "markdown",
     "metadata": {},
     "source": [
      "Other `scipy` modules of interest:\n"
     ]
    },
    {
     "cell_type": "code",
     "collapsed": false,
     "input": [
      "sp"
     ],
     "language": "python",
     "metadata": {},
     "outputs": [
      {
       "metadata": {},
       "output_type": "pyout",
       "prompt_number": 23,
       "text": [
        "<module 'scipy' from '/usr/lib/python2.7/dist-packages/scipy/__init__.pyc'>"
       ]
      }
     ],
     "prompt_number": 23
    },
    {
     "cell_type": "markdown",
     "metadata": {},
     "source": [
      "[Matplotlib](http://matplotlib.org)\n",
      "============\n",
      "\n",
      "The de-facto plotting package. Publication-quality figures.\n",
      "\n",
      "* [Matplotlib gallery](http://matplotlib.org/gallery)\n",
      "\n",
      "A much more fleshed out lecture on Matplotlib in the [`python/matplotlib`](https://github.com/ivanov/boot-camps/tree/2013-07-OU/python/matplotlib) of our bootcamp repository."
     ]
    },
    {
     "cell_type": "markdown",
     "metadata": {},
     "source": [
      "The next line is only needed in the notebook if you want to get the plots inlined."
     ]
    },
    {
     "cell_type": "code",
     "collapsed": false,
     "input": [
      "%pylab inline"
     ],
     "language": "python",
     "metadata": {},
     "outputs": [
      {
       "output_type": "stream",
       "stream": "stdout",
       "text": [
        "\n",
        "Welcome to pylab, a matplotlib-based Python environment [backend: module://IPython.kernel.zmq.pylab.backend_inline].\n",
        "For more information, type 'help(pylab)'.\n"
       ]
      },
      {
       "output_type": "stream",
       "stream": "stderr",
       "text": [
        "/home/pi/.local/lib/python2.7/site-packages/matplotlib-1.4.x-py2.7-linux-x86_64.egg/matplotlib/__init__.py:727: UserWarning: Found matplotlib configuration in ~/.matplotlib. To conform with the XDG base directory standard, this configuration location has been deprecated on Linux, and the new location is now '/home/pi/.config'.  Please move your configuration there to ensure that matplotlib will continue to find it in the future.\n",
        "  _get_xdg_config_dir())\n"
       ]
      }
     ],
     "prompt_number": 24
    },
    {
     "cell_type": "code",
     "collapsed": false,
     "input": [
      "%pylab inline "
     ],
     "language": "python",
     "metadata": {},
     "outputs": [
      {
       "output_type": "stream",
       "stream": "stdout",
       "text": [
        "\n",
        "Welcome to pylab, a matplotlib-based Python environment [backend: module://IPython.kernel.zmq.pylab.backend_inline].\n",
        "For more information, type 'help(pylab)'.\n"
       ]
      }
     ],
     "prompt_number": 25
    },
    {
     "cell_type": "code",
     "collapsed": false,
     "input": [
      "import matplotlib.pyplot as plt"
     ],
     "language": "python",
     "metadata": {},
     "outputs": [],
     "prompt_number": 26
    },
    {
     "cell_type": "code",
     "collapsed": false,
     "input": [
      "plt.plot( np.sin( np.linspace(0,10) ) )"
     ],
     "language": "python",
     "metadata": {},
     "outputs": [
      {
       "metadata": {},
       "output_type": "pyout",
       "prompt_number": 27,
       "text": [
        "[<matplotlib.lines.Line2D at 0x3911210>]"
       ]
      },
      {
       "metadata": {},
       "output_type": "display_data",
       "png": "[encoded data removed]",
       "text": [
        "<matplotlib.figure.Figure at 0x3775f10>"
       ]
      }
     ],
     "prompt_number": 27
    },
    {
     "cell_type": "code",
     "collapsed": false,
     "input": [
      "n_points = 100\n",
      "x = np.random.rand(n_points)\n",
      "y = np.random.rand(n_points)\n",
      "awesomeness = np.random.rand(n_points)\n",
      "weight = np.random.rand(n_points)\n",
      "plt.scatter( x, y )"
     ],
     "language": "python",
     "metadata": {},
     "outputs": [
      {
       "metadata": {},
       "output_type": "pyout",
       "prompt_number": 28,
       "text": [
        "<matplotlib.collections.PathCollection at 0x3b59b90>"
       ]
      },
      {
       "metadata": {},
       "output_type": "display_data",
       "png": "[encoded data removed]",
       "text": [
        "<matplotlib.figure.Figure at 0x38269d0>"
       ]
      }
     ],
     "prompt_number": 28
    },
    {
     "cell_type": "code",
     "collapsed": false,
     "input": [
      "plt.title(\"Fake data\")\n",
      "plt.scatter( x, y, c=awesomeness)\n"
     ],
     "language": "python",
     "metadata": {},
     "outputs": [
      {
       "metadata": {},
       "output_type": "pyout",
       "prompt_number": 29,
       "text": [
        "<matplotlib.collections.PathCollection at 0x3d95050>"
       ]
      },
      {
       "metadata": {},
       "output_type": "display_data",
       "png": "[encoded data removed]",
       "text": [
        "<matplotlib.figure.Figure at 0x38287d0>"
       ]
      }
     ],
     "prompt_number": 29
    },
    {
     "cell_type": "code",
     "collapsed": false,
     "input": [
      "plt.title(\"Greetings, Oklahoma!\")\n",
      "plt.xlabel(\"something\")\n",
      "plt.ylabel(\"nothing\")\n",
      "plt.scatter( x, y, c=awesomeness, s=weight*100)\n"
     ],
     "language": "python",
     "metadata": {},
     "outputs": [
      {
       "metadata": {},
       "output_type": "pyout",
       "prompt_number": 30,
       "text": [
        "<matplotlib.collections.PathCollection at 0x3b7efd0>"
       ]
      },
      {
       "metadata": {},
       "output_type": "display_data",
       "png": "[encoded data removed]",
       "text": [
        "<matplotlib.figure.Figure at 0x3b7eed0>"
       ]
      }
     ],
     "prompt_number": 30
    },
    {
     "cell_type": "code",
     "collapsed": false,
     "input": [
      "plt.hist"
     ],
     "language": "python",
     "metadata": {},
     "outputs": [
      {
       "metadata": {},
       "output_type": "pyout",
       "prompt_number": 31,
       "text": [
        "<function matplotlib.pyplot.hist>"
       ]
      }
     ],
     "prompt_number": 31
    },
    {
     "cell_type": "code",
     "collapsed": false,
     "input": [
      "plt.bar"
     ],
     "language": "python",
     "metadata": {},
     "outputs": [
      {
       "metadata": {},
       "output_type": "pyout",
       "prompt_number": 32,
       "text": [
        "<function matplotlib.pyplot.bar>"
       ]
      }
     ],
     "prompt_number": 32
    },
    {
     "cell_type": "markdown",
     "metadata": {},
     "source": [
      "IPython's pylab mode\n",
      "--------------------\n",
      "\n",
      "IPython has a special mode that save you some typing by performing all of the above imports (and some more).\n",
      "\n",
      "It also allows us to use matplotlib interactively (demo this time permitting).\n",
      "\n",
      "You can either activate it from the command line when launching ipython by specifying the `--pylab` flag, or you can run an IPython magic command `%pylab`. "
     ]
    },
    {
     "cell_type": "code",
     "collapsed": false,
     "input": [
      "%pylab"
     ],
     "language": "python",
     "metadata": {},
     "outputs": [
      {
       "output_type": "stream",
       "stream": "stdout",
       "text": [
        "\n",
        "Welcome to pylab, a matplotlib-based Python environment [backend: module://IPython.kernel.zmq.pylab.backend_inline].\n",
        "For more information, type 'help(pylab)'.\n"
       ]
      }
     ],
     "prompt_number": 33
    },
    {
     "cell_type": "markdown",
     "metadata": {},
     "source": [
      "In particular, you can specify the [matpltolib backend](http://matplotlib.org/faq/usage_faq.html#what-is-a-backend) as an argument to the `pylab` mode\n"
     ]
    },
    {
     "cell_type": "code",
     "collapsed": false,
     "input": [
      "%pylab inline"
     ],
     "language": "python",
     "metadata": {},
     "outputs": [
      {
       "output_type": "stream",
       "stream": "stdout",
       "text": [
        "\n",
        "Welcome to pylab, a matplotlib-based Python environment [backend: module://IPython.kernel.zmq.pylab.backend_inline].\n",
        "For more information, type 'help(pylab)'.\n"
       ]
      }
     ],
     "prompt_number": 34
    },
    {
     "cell_type": "code",
     "collapsed": false,
     "input": [],
     "language": "python",
     "metadata": {},
     "outputs": [],
     "prompt_number": 34
    }
   ],
   "metadata": {}
  }
 ]
}